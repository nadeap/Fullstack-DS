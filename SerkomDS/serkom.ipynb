{
 "cells": [
  {
   "attachments": {},
   "cell_type": "markdown",
   "metadata": {},
   "source": [
    "### Jenis data\n",
    "Berdasarkan Cara Pengumpulannya\n",
    "\n",
    "- `Data Primer`\n",
    "\n",
    "    Data yang didapat dari hasil pengumpulan dan pencarian sendiri (penelitian + pengumpulan sendiri)\n",
    "    \n",
    "- `Data Skunder`\n",
    "    \n",
    "    Data yang didapat dari link tertentu, misal data BPS, Kaggle, dll\n",
    "    \n",
    "Berdasarkan Sumbernya\n",
    "\n",
    "- `Data Internal`\n",
    "    \n",
    "    Data milik perusahaan / industri sendiri\n",
    "    \n",
    "- `Data Eksternal`\n",
    "    \n",
    "    Data yang diperoleh dari instansi luar\n",
    "    \n",
    "Berdasarkan Sifatnya\n",
    "\n",
    "- `Data Kualitatif`\n",
    "    \n",
    "    Data yang tidak bisa dihitung langsung (bukan berbentuk angka). Data ini bisa dilambangkan dalam bentuk verbal, gambar, teks, simbol, dan sebagainya.\n",
    "    \n",
    "- `Data Kuantitatif`\n",
    "    \n",
    "    Data kuantitatif adalah **jenis data** yang terdiri dari angka atau numerik dalam bentuk bilangan.\n",
    "    \n",
    "\n",
    "Berdasarkan Waktu Pengumpulannya\n",
    "\n",
    "- `Data Cross Section`\n",
    "    \n",
    "    Satu waktu banyak variabel\n",
    "    \n",
    "- `Data Time Series`\n",
    "    \n",
    "    Banyak waktu, satu variabel\n",
    "    \n",
    "- `Data Gabungan (Cross Section + Time Series)`\n",
    "    \n",
    "    Gabungan (banyak waktu + banyak variabel)"
   ]
  },
  {
   "attachments": {},
   "cell_type": "markdown",
   "metadata": {},
   "source": [
    "### Tipe data\n",
    "\n",
    "1. Angka / Numeric = Integer, Float, dan Double\n",
    "\n",
    "2. Teks = String dan Karakter (1 karakter aja)\n",
    "\n",
    "3. Logika = Boolean\n",
    "\n",
    "4. Tanggal Waktu = Date, Time, Datetime\n",
    "\n",
    "5. Struktur = Array, Object\n",
    "\n",
    "6. Lainnya = Null"
   ]
  },
  {
   "attachments": {},
   "cell_type": "markdown",
   "metadata": {},
   "source": [
    "### 4 Tipe data dalam Statistika\n",
    "\n",
    "1. Nominal = Pria/Wanita, Lajang/Menikah/Cerai > gaada urutannya\n",
    "\n",
    "2. Ordinal = SD, SMP, SMA > ada urutannya\n",
    "\n",
    "3. Interval = Suhu 20C (urutannya ada artinya) 0 gaada artinya\n",
    "\n",
    "4. Rasio = Berat badan"
   ]
  },
  {
   "cell_type": "code",
   "execution_count": 2,
   "metadata": {},
   "outputs": [],
   "source": [
    "#data.columns\n",
    "#data.info\n",
    "#new_column_names = {'old_column_name_1': 'new_column_name_1'}\n",
    "# #df = df.rename(columns=new_column_names)"
   ]
  },
  {
   "attachments": {},
   "cell_type": "markdown",
   "metadata": {},
   "source": [
    "### Menelaah Data"
   ]
  },
  {
   "cell_type": "code",
   "execution_count": 3,
   "metadata": {},
   "outputs": [],
   "source": [
    "# data.shape\n",
    "# data.info()\n",
    "# data.describe()\n",
    "# data.isnull().sum()"
   ]
  },
  {
   "cell_type": "code",
   "execution_count": null,
   "metadata": {},
   "outputs": [],
   "source": []
  }
 ],
 "metadata": {
  "kernelspec": {
   "display_name": "Python 3",
   "language": "python",
   "name": "python3"
  },
  "language_info": {
   "codemirror_mode": {
    "name": "ipython",
    "version": 3
   },
   "file_extension": ".py",
   "mimetype": "text/x-python",
   "name": "python",
   "nbconvert_exporter": "python",
   "pygments_lexer": "ipython3",
   "version": "3.10.8"
  },
  "orig_nbformat": 4
 },
 "nbformat": 4,
 "nbformat_minor": 2
}
