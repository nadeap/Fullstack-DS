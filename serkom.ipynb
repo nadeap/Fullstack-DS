{
 "cells": [
  {
   "attachments": {},
   "cell_type": "markdown",
   "metadata": {},
   "source": [
    "### This is a file to study abaout Data Science again for Serkom DS."
   ]
  },
  {
   "attachments": {},
   "cell_type": "markdown",
   "metadata": {},
   "source": [
    "1. Menentukan Label Data"
   ]
  },
  {
   "attachments": {},
   "cell_type": "markdown",
   "metadata": {},
   "source": [
    "### Jenis data\n",
    "\n",
    "### Berdasarkan Cara Pengumpulannya\n",
    "\n",
    "- `Data Primer`\n",
    "\n",
    "    Data yang didapat dari hasil pengumpulan dan pencarian sendiri (penelitian + pengumpulan sendiri)\n",
    "    \n",
    "- `Data Skunder`\n",
    "    \n",
    "    Data yang didapat dari link tertentu, misal data BPS, Kaggle, dll\n",
    "    \n",
    "\n",
    "### Berdasarkan Sumbernya\n",
    "\n",
    "- `Data Internal`\n",
    "    \n",
    "    Data milik perusahaan / industri sendiri\n",
    "    \n",
    "- `Data Eksternal`\n",
    "    \n",
    "    Data yang diperoleh dari instansi luar\n",
    "    \n",
    "\n",
    "### Berdasarkan Sifatnya\n",
    "\n",
    "- `Data Kualitatif`\n",
    "    \n",
    "    Data yang tidak bisa dihitung langsung (bukan berbentuk angka). Data ini bisa dilambangkan dalam bentuk verbal, gambar, teks, simbol, dan sebagainya.\n",
    "    \n",
    "- `Data Kuantitatif`\n",
    "    \n",
    "    Data kuantitatif adalah **jenis data** yang terdiri dari angka atau numerik dalam bentuk bilangan.\n",
    "    \n",
    "\n",
    "### Berdasarkan Waktu Pengumpulannya\n",
    "\n",
    "- `Data Cross Section`\n",
    "    \n",
    "    Satu waktu banyak variabel\n",
    "    \n",
    "- `Data Time Series`\n",
    "    \n",
    "    Banyak waktu, satu variabel\n",
    "    \n",
    "- `Data Gabungan (Cross Section + Time Series)`\n",
    "    \n",
    "    Gabungan (banyak waktu + banyak variabel)"
   ]
  },
  {
   "cell_type": "code",
   "execution_count": null,
   "metadata": {
    "vscode": {
     "languageId": "plaintext"
    }
   },
   "outputs": [],
   "source": []
  },
  {
   "cell_type": "code",
   "execution_count": null,
   "metadata": {
    "vscode": {
     "languageId": "plaintext"
    }
   },
   "outputs": [],
   "source": []
  }
 ],
 "metadata": {
  "language_info": {
   "name": "python"
  },
  "orig_nbformat": 4
 },
 "nbformat": 4,
 "nbformat_minor": 2
}
